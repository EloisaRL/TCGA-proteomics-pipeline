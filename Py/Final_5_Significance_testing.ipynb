{
 "cells": [
  {
   "cell_type": "code",
   "execution_count": 1,
   "metadata": {},
   "outputs": [
    {
     "name": "stdout",
     "output_type": "stream",
     "text": [
      "Paired t-test:\n",
      "T-statistic: 9.486832980504968\n",
      "P-value: 1.5543122344752192e-15\n"
     ]
    }
   ],
   "source": [
    "from scipy.stats import t\n",
    "\n",
    "# Example data (mean and standard deviation for each group)\n",
    "mean_before = 85.71 \n",
    "std_dev_before = 0.37\n",
    "n = 100  # Sample size\n",
    "\n",
    "mean_after = 89.20 \n",
    "std_dev_after = 0.39\n",
    "\n",
    "# Calculate the standard error of the difference between the means\n",
    "std_error_diff = ((std_dev_before**2 / n) + (std_dev_after**2 / n))**0.5\n",
    "\n",
    "# Calculate the t-statistic\n",
    "t_statistic = (mean_before - mean_after) / std_error_diff\n",
    "\n",
    "# Degrees of freedom\n",
    "df = n - 1\n",
    "\n",
    "# Calculate the p-value using the cumulative distribution function (CDF) of the t-distribution\n",
    "p_value = 2 * (1 - t.cdf(abs(t_statistic), df))\n",
    "\n",
    "# Print the results\n",
    "print(\"Paired t-test:\")\n",
    "print(f\"T-statistic: {t_statistic}\")\n",
    "print(f\"P-value: {p_value}\")\n"
   ]
  },
  {
   "cell_type": "code",
   "execution_count": 1,
   "metadata": {},
   "outputs": [
    {
     "name": "stdout",
     "output_type": "stream",
     "text": [
      "Paired t-test:\n",
      "T-statistic: 12.968821590962879\n",
      "P-value: 0.0\n"
     ]
    }
   ],
   "source": [
    "from scipy.stats import t\n",
    "\n",
    "# Example data (mean and standard deviation for each group)\n",
    "mean_before = 89.22 \n",
    "std_dev_before = 0.35\n",
    "n = 100  # Sample size\n",
    "\n",
    "mean_after = 88.55 \n",
    "std_dev_after = 0.38\n",
    "\n",
    "# Calculate the standard error of the difference between the means\n",
    "std_error_diff = ((std_dev_before**2 / n) + (std_dev_after**2 / n))**0.5\n",
    "\n",
    "# Calculate the t-statistic\n",
    "t_statistic = (mean_before - mean_after) / std_error_diff\n",
    "\n",
    "# Degrees of freedom\n",
    "df = n - 1\n",
    "\n",
    "# Calculate the p-value using the cumulative distribution function (CDF) of the t-distribution\n",
    "p_value = 2 * (1 - t.cdf(abs(t_statistic), df))\n",
    "\n",
    "# Print the results\n",
    "print(\"Paired t-test:\")\n",
    "print(f\"T-statistic: {t_statistic}\")\n",
    "print(f\"P-value: {p_value}\")"
   ]
  },
  {
   "cell_type": "code",
   "execution_count": 2,
   "metadata": {},
   "outputs": [
    {
     "name": "stdout",
     "output_type": "stream",
     "text": [
      "Paired t-test:\n",
      "T-statistic: 9.486832980504968\n",
      "P-value: 1.5543122344752192e-15\n"
     ]
    }
   ],
   "source": [
    "from scipy.stats import t\n",
    "\n",
    "# Example data (mean and standard deviation for each group)\n",
    "mean_before = 89.71 \n",
    "std_dev_before = 0.37\n",
    "n = 100  # Sample size\n",
    "\n",
    "mean_after = 89.20 \n",
    "std_dev_after = 0.39\n",
    "\n",
    "# Calculate the standard error of the difference between the means\n",
    "std_error_diff = ((std_dev_before**2 / n) + (std_dev_after**2 / n))**0.5\n",
    "\n",
    "# Calculate the t-statistic\n",
    "t_statistic = (mean_before - mean_after) / std_error_diff\n",
    "\n",
    "# Degrees of freedom\n",
    "df = n - 1\n",
    "\n",
    "# Calculate the p-value using the cumulative distribution function (CDF) of the t-distribution\n",
    "p_value = 2 * (1 - t.cdf(abs(t_statistic), df))\n",
    "\n",
    "# Print the results\n",
    "print(\"Paired t-test:\")\n",
    "print(f\"T-statistic: {t_statistic}\")\n",
    "print(f\"P-value: {p_value}\")"
   ]
  },
  {
   "cell_type": "code",
   "execution_count": 3,
   "metadata": {},
   "outputs": [
    {
     "name": "stdout",
     "output_type": "stream",
     "text": [
      "Paired t-test:\n",
      "T-statistic: 10.912011730198964\n",
      "P-value: 0.0\n"
     ]
    }
   ],
   "source": [
    "from scipy.stats import t\n",
    "\n",
    "# Example data (mean and standard deviation for each group)\n",
    "mean_before = 88.95 \n",
    "std_dev_before = 0.38\n",
    "n = 100  # Sample size\n",
    "\n",
    "mean_after = 88.34 \n",
    "std_dev_after = 0.41\n",
    "\n",
    "# Calculate the standard error of the difference between the means\n",
    "std_error_diff = ((std_dev_before**2 / n) + (std_dev_after**2 / n))**0.5\n",
    "\n",
    "# Calculate the t-statistic\n",
    "t_statistic = (mean_before - mean_after) / std_error_diff\n",
    "\n",
    "# Degrees of freedom\n",
    "df = n - 1\n",
    "\n",
    "# Calculate the p-value using the cumulative distribution function (CDF) of the t-distribution\n",
    "p_value = 2 * (1 - t.cdf(abs(t_statistic), df))\n",
    "\n",
    "# Print the results\n",
    "print(\"Paired t-test:\")\n",
    "print(f\"T-statistic: {t_statistic}\")\n",
    "print(f\"P-value: {p_value}\")"
   ]
  },
  {
   "cell_type": "code",
   "execution_count": 4,
   "metadata": {},
   "outputs": [
    {
     "name": "stdout",
     "output_type": "stream",
     "text": [
      "Independent samples t-test:\n",
      "T-statistic: -9.750427199763596\n",
      "P-value: 2.220446049250313e-16\n"
     ]
    }
   ],
   "source": [
    "from scipy.stats import t\n",
    "\n",
    "# Example data (mean and standard deviation for each group)\n",
    "mean1 = 85.50\n",
    "std_dev1 = 0.65\n",
    "n1 = 100  # Sample size for group 1\n",
    "\n",
    "mean2 = 86.84\n",
    "std_dev2 = 0.57\n",
    "n2 = 10  # Sample size for group 2\n",
    "\n",
    "# Calculate the pooled standard deviation\n",
    "pooled_std_dev = ((n1 - 1) * std_dev1**2 + (n2 - 1) * std_dev2**2) / (n1 + n2 - 2)\n",
    "\n",
    "# Calculate the t-statistic\n",
    "t_statistic = (mean1 - mean2) / (pooled_std_dev * (1/n1 + 1/n2)**0.5)\n",
    "\n",
    "# Degrees of freedom\n",
    "df = n1 + n2 - 2\n",
    "\n",
    "# Calculate the p-value using the cumulative distribution function (CDF) of the t-distribution\n",
    "p_value = 2 * (1 - t.cdf(abs(t_statistic), df))\n",
    "\n",
    "# Print the results\n",
    "print(\"Independent samples t-test:\")\n",
    "print(f\"T-statistic: {t_statistic}\")\n",
    "print(f\"P-value: {p_value}\")\n"
   ]
  },
  {
   "cell_type": "code",
   "execution_count": 5,
   "metadata": {},
   "outputs": [
    {
     "name": "stdout",
     "output_type": "stream",
     "text": [
      "Independent samples t-test:\n",
      "T-statistic: -3.7120261886392973\n",
      "P-value: 0.0003269871457503015\n"
     ]
    }
   ],
   "source": [
    "from scipy.stats import t\n",
    "\n",
    "# Example data (mean and standard deviation for each group)\n",
    "mean1 = 85.47\n",
    "std_dev1 = 0.88\n",
    "n1 = 100  # Sample size for group 1\n",
    "\n",
    "mean2 = 86.39\n",
    "std_dev2 = 0.67\n",
    "n2 = 10  # Sample size for group 2\n",
    "\n",
    "# Calculate the pooled standard deviation\n",
    "pooled_std_dev = ((n1 - 1) * std_dev1**2 + (n2 - 1) * std_dev2**2) / (n1 + n2 - 2)\n",
    "\n",
    "# Calculate the t-statistic\n",
    "t_statistic = (mean1 - mean2) / (pooled_std_dev * (1/n1 + 1/n2)**0.5)\n",
    "\n",
    "# Degrees of freedom\n",
    "df = n1 + n2 - 2\n",
    "\n",
    "# Calculate the p-value using the cumulative distribution function (CDF) of the t-distribution\n",
    "p_value = 2 * (1 - t.cdf(abs(t_statistic), df))\n",
    "\n",
    "# Print the results\n",
    "print(\"Independent samples t-test:\")\n",
    "print(f\"T-statistic: {t_statistic}\")\n",
    "print(f\"P-value: {p_value}\")"
   ]
  },
  {
   "cell_type": "code",
   "execution_count": 6,
   "metadata": {},
   "outputs": [
    {
     "name": "stdout",
     "output_type": "stream",
     "text": [
      "Independent samples t-test:\n",
      "T-statistic: -9.750427199763596\n",
      "P-value: 2.220446049250313e-16\n"
     ]
    }
   ],
   "source": [
    "from scipy.stats import t\n",
    "\n",
    "# Example data (mean and standard deviation for each group)\n",
    "mean1 = 85.50\n",
    "std_dev1 = 0.65\n",
    "n1 = 100  # Sample size for group 1\n",
    "\n",
    "mean2 = 86.84\n",
    "std_dev2 = 0.57\n",
    "n2 = 10  # Sample size for group 2\n",
    "\n",
    "# Calculate the pooled standard deviation\n",
    "pooled_std_dev = ((n1 - 1) * std_dev1**2 + (n2 - 1) * std_dev2**2) / (n1 + n2 - 2)\n",
    "\n",
    "# Calculate the t-statistic\n",
    "t_statistic = (mean1 - mean2) / (pooled_std_dev * (1/n1 + 1/n2)**0.5)\n",
    "\n",
    "# Degrees of freedom\n",
    "df = n1 + n2 - 2\n",
    "\n",
    "# Calculate the p-value using the cumulative distribution function (CDF) of the t-distribution\n",
    "p_value = 2 * (1 - t.cdf(abs(t_statistic), df))\n",
    "\n",
    "# Print the results\n",
    "print(\"Independent samples t-test:\")\n",
    "print(f\"T-statistic: {t_statistic}\")\n",
    "print(f\"P-value: {p_value}\")"
   ]
  },
  {
   "cell_type": "code",
   "execution_count": 7,
   "metadata": {},
   "outputs": [
    {
     "name": "stdout",
     "output_type": "stream",
     "text": [
      "Independent samples t-test:\n",
      "T-statistic: -7.944879890583563\n",
      "P-value: 1.998623488930207e-12\n"
     ]
    }
   ],
   "source": [
    "from scipy.stats import t\n",
    "\n",
    "# Example data (mean and standard deviation for each group)\n",
    "mean1 = 84.79\n",
    "std_dev1 = 0.7\n",
    "n1 = 100  # Sample size for group 1\n",
    "\n",
    "mean2 = 86.05\n",
    "std_dev2 = 0.59\n",
    "n2 = 10  # Sample size for group 2\n",
    "\n",
    "# Calculate the pooled standard deviation\n",
    "pooled_std_dev = ((n1 - 1) * std_dev1**2 + (n2 - 1) * std_dev2**2) / (n1 + n2 - 2)\n",
    "\n",
    "# Calculate the t-statistic\n",
    "t_statistic = (mean1 - mean2) / (pooled_std_dev * (1/n1 + 1/n2)**0.5)\n",
    "\n",
    "# Degrees of freedom\n",
    "df = n1 + n2 - 2\n",
    "\n",
    "# Calculate the p-value using the cumulative distribution function (CDF) of the t-distribution\n",
    "p_value = 2 * (1 - t.cdf(abs(t_statistic), df))\n",
    "\n",
    "# Print the results\n",
    "print(\"Independent samples t-test:\")\n",
    "print(f\"T-statistic: {t_statistic}\")\n",
    "print(f\"P-value: {p_value}\")"
   ]
  }
 ],
 "metadata": {
  "kernelspec": {
   "display_name": "Python 3",
   "language": "python",
   "name": "python3"
  },
  "language_info": {
   "codemirror_mode": {
    "name": "ipython",
    "version": 3
   },
   "file_extension": ".py",
   "mimetype": "text/x-python",
   "name": "python",
   "nbconvert_exporter": "python",
   "pygments_lexer": "ipython3",
   "version": "3.12.1"
  }
 },
 "nbformat": 4,
 "nbformat_minor": 2
}
